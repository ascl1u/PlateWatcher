{
 "cells": [
  {
   "cell_type": "code",
   "execution_count": 1,
   "id": "9408238b-637c-4e14-9b4a-00875296f7fb",
   "metadata": {},
   "outputs": [],
   "source": [
    "from langchain_community.llms import Ollama\n",
    "from langchain_core.prompts import ChatPromptTemplate\n",
    "from langchain_community.document_loaders import WebBaseLoader\n",
    "from langchain_text_splitters import RecursiveCharacterTextSplitter\n",
    "from langchain_community.embeddings import OllamaEmbeddings\n",
    "from langchain_community.vectorstores import FAISS\n",
    "from langchain.chains.combine_documents import create_stuff_documents_chain\n",
    "from langchain.chains import create_retrieval_chain\n",
    "from langchain_core.prompts import MessagesPlaceholder\n",
    "from langchain.chains import create_history_aware_retriever\n",
    "from langchain.chains.combine_documents import create_stuff_documents_chain\n",
    "from langchain_core.messages import AIMessage, HumanMessage\n",
    "from langchain.tools.retriever import create_retriever_tool\n",
    "import os\n",
    "from langchain_community.tools.tavily_search import TavilySearchResults\n",
    "from langchain import hub\n",
    "from langchain.agents import AgentExecutor, create_react_agent"
   ]
  },
  {
   "cell_type": "code",
   "execution_count": 2,
   "id": "0679c997-ec88-4540-a73c-fd76292dc34b",
   "metadata": {},
   "outputs": [],
   "source": [
    "llm = Ollama(model = \"llama2\")\n",
    "loader = WebBaseLoader(\"https://www.healthline.com/nutrition/mediterranean-diet-meal-plan\")\n",
    "docs = loader.load()\n",
    "text_splitter = RecursiveCharacterTextSplitter()\n",
    "documents = text_splitter.split_documents(docs)\n",
    "embeddings = OllamaEmbeddings()\n",
    "vector = FAISS.from_documents(documents, embeddings)\n",
    "os.environ['TAVILY_API_KEY'] = \"\""
   ]
  },
  {
   "cell_type": "code",
   "execution_count": 3,
   "id": "3095af9f-f93d-49a2-8b62-0ffdc9ae707d",
   "metadata": {},
   "outputs": [],
   "source": [
    "prompt = ChatPromptTemplate.from_template(\n",
    "    \"\"\"\n",
    "    Answer the following question based on the provided context:\n",
    "    <context>\n",
    "    {context}\n",
    "    </context>\n",
    "    Question: {input}\n",
    "    \"\"\"\n",
    ")\n",
    "prompt_search_query = ChatPromptTemplate.from_messages([\n",
    "  MessagesPlaceholder(variable_name = \"chat_history\"),\n",
    "    (\"user\", \"{input}\"),\n",
    "    (\"user\", \"Given the above conversation, generate a search query to look up to get information relevant to the conversation\"),\n",
    "])\n",
    "prompt_get_answer = ChatPromptTemplate.from_messages([\n",
    "    (\"system\", \"Answer the user's questions based on the below context:\\\\n\\\\n{context}\"),\n",
    "    MessagesPlaceholder(variable_name = \"chat_history\"),\n",
    "    (\"user\", \"{input}\"),\n",
    "])"
   ]
  },
  {
   "cell_type": "code",
   "execution_count": 4,
   "id": "6c247316-7e91-48a6-9fb7-a151520d6d37",
   "metadata": {},
   "outputs": [],
   "source": [
    "document_chain = create_stuff_documents_chain(llm, prompt)\n",
    "retriever = vector.as_retriever()\n",
    "retrieval_chain = create_retrieval_chain(retriever, document_chain)\n",
    "retriever_chain = create_history_aware_retriever(llm, retriever, prompt_search_query)\n",
    "conversation_chain = create_stuff_documents_chain(llm, prompt_get_answer)\n",
    "conversation_retriever_chain = create_retrieval_chain(retriever_chain, conversation_chain)\n",
    "search = TavilySearchResults()\n",
    "retriever_tool = create_retriever_tool(retriever, \"Healthline_search\", \"For any questions about Healthline, you must use this tool\")\n",
    "tools = [retriever_tool, search]\n",
    "prompt = hub.pull(\"hwchase17/react\")\n",
    "agent = create_react_agent(llm, tools, prompt)\n",
    "agent_executor = AgentExecutor(agent = agent, tools = tools, handle_parsing_errors = True)"
   ]
  },
  {
   "cell_type": "code",
   "execution_count": null,
   "id": "e5c8f24c-63fa-4e49-bd7a-8c16bd60af43",
   "metadata": {},
   "outputs": [],
   "source": [
    "agent_executor.invoke({\"input\": \"Describe a mediterranean diet\"})"
   ]
  },
  {
   "cell_type": "code",
   "execution_count": null,
   "id": "2d1b6c51-0a98-4f0f-8f1e-2c964dba6193",
   "metadata": {},
   "outputs": [],
   "source": [
    "response = retrieval_chain.invoke({\"input\": \"Create a healthy diet plan\"})\n",
    "print(response[\"answer\"])\n",
    "chat_history = [HumanMessage(content = \"How many steps were there in plan?\"), AIMessage(content = \"10\")]\n",
    "response = conversation_retriever_chain.invoke({\n",
    "    \"chat_history\": chat_history,\n",
    "    \"input\": \"Condense the plan so that there are fewer steps\",\n",
    "})\n",
    "print(response[\"answer\"])"
   ]
  }
 ],
 "metadata": {
  "kernelspec": {
   "display_name": "Python 3 (ipykernel)",
   "language": "python",
   "name": "python3"
  },
  "language_info": {
   "codemirror_mode": {
    "name": "ipython",
    "version": 3
   },
   "file_extension": ".py",
   "mimetype": "text/x-python",
   "name": "python",
   "nbconvert_exporter": "python",
   "pygments_lexer": "ipython3",
   "version": "3.11.2"
  }
 },
 "nbformat": 4,
 "nbformat_minor": 5
}
